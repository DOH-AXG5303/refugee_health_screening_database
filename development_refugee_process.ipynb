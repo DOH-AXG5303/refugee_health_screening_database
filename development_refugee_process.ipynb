{
 "cells": [
  {
   "cell_type": "code",
   "execution_count": 1,
   "id": "73053525-1dd7-4582-857a-48ad1585949d",
   "metadata": {},
   "outputs": [],
   "source": [
    "import pandas as pd\n",
    "from credentials import pid_202_token\n",
    "from credentials import redcap_api_url\n",
    "import redcap\n"
   ]
  },
  {
   "cell_type": "code",
   "execution_count": 2,
   "id": "8a2e4b1b-8fba-4987-a94c-6c655b319b96",
   "metadata": {},
   "outputs": [],
   "source": [
    "df = pd.read_excel(\"sample_data.xlsx\")"
   ]
  },
  {
   "cell_type": "code",
   "execution_count": 3,
   "id": "12812f30-29f8-4e55-bb93-95dc5462382b",
   "metadata": {},
   "outputs": [],
   "source": [
    "def transform_refugee_data():\n",
    "    \"\"\"\n",
    "    three transformations to refugee health data:\n",
    "    \n",
    "    1) columns changed to lower case\n",
    "    2) create index titled record_id which is a copy of \"aliennumber\" column\n",
    "    3) tbclass column is transformed via a dictionary match\n",
    "    \"\"\"\n",
    "\n",
    "    df.columns = df.columns.str.lower()\n",
    "\n",
    "    df[\"record_id\"] = df[\"aliennumber\"]\n",
    "    df = df.set_index(keys = df[\"record_id\"])\n",
    "\n",
    "\n",
    "    tbclass = {\n",
    "        \"A\":\"A\",\n",
    "        \"B1 (TI 07)\":\"B1\",\n",
    "        \"B2 (TI 07)\":\"B2\",\n",
    "        \"B3 (TI 07)\":\"B3\"    \n",
    "    }\n",
    "\n",
    "    df[\"tbclass\"] = df[\"tbclass\"].map(tbclass)\n",
    "    \n",
    "    return df"
   ]
  },
  {
   "cell_type": "code",
   "execution_count": 6,
   "id": "aad6e8e4-d775-47c9-bef0-f9b1f5f34425",
   "metadata": {},
   "outputs": [],
   "source": [
    "\n",
    "project = redcap.Project(redcap_api_url, pid_202_token)"
   ]
  },
  {
   "cell_type": "code",
   "execution_count": 7,
   "id": "2c9dc5ce-3328-4eb9-a16c-df0d5510af62",
   "metadata": {},
   "outputs": [
    {
     "data": {
      "text/plain": [
       "{'count': 1}"
      ]
     },
     "execution_count": 7,
     "metadata": {},
     "output_type": "execute_result"
    }
   ],
   "source": [
    "response = project.import_records(df, force_auto_number=False)\n",
    "response"
   ]
  },
  {
   "cell_type": "markdown",
   "id": "48783af0-d2f5-4afd-b844-950f579ffc0b",
   "metadata": {},
   "source": [
    "# Appendix"
   ]
  },
  {
   "cell_type": "code",
   "execution_count": 8,
   "id": "2d4b85a1-7650-4bd4-83f6-31344ee17d67",
   "metadata": {},
   "outputs": [],
   "source": [
    "#taking a glance at the data\n",
    "\n",
    "import requests\n",
    "import io\n",
    "def redcap_API_export(url,token):\n",
    "    \"\"\"\n",
    "    all data API request\n",
    "    \"\"\"\n",
    "\n",
    "    fields = {\n",
    "        'token': token,\n",
    "        'content': 'record',\n",
    "        'format': 'csv',\n",
    "        'type': 'flat'}\n",
    "\n",
    "    r = requests.post(url, data=fields)\n",
    "    \n",
    "    df = pd.read_csv(io.StringIO(r.content.decode(\"utf-8\")), index_col=0)\n",
    "\n",
    "    return df\n",
    "\n",
    "df_pid202 = redcap_API_export(redcap_api_url, pid_202_token)"
   ]
  },
  {
   "cell_type": "code",
   "execution_count": null,
   "id": "e2ecd58f-25b3-49c3-bb62-17ecc893990b",
   "metadata": {},
   "outputs": [],
   "source": []
  },
  {
   "cell_type": "code",
   "execution_count": null,
   "id": "393a0c72-5678-4414-85c0-3e1c0c19c727",
   "metadata": {},
   "outputs": [],
   "source": []
  }
 ],
 "metadata": {
  "kernelspec": {
   "display_name": "Python [conda env:transform21] *",
   "language": "python",
   "name": "conda-env-transform21-py"
  },
  "language_info": {
   "codemirror_mode": {
    "name": "ipython",
    "version": 3
   },
   "file_extension": ".py",
   "mimetype": "text/x-python",
   "name": "python",
   "nbconvert_exporter": "python",
   "pygments_lexer": "ipython3",
   "version": "3.8.10"
  }
 },
 "nbformat": 4,
 "nbformat_minor": 5
}
