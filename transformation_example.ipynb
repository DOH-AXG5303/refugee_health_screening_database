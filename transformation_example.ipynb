{
 "cells": [
  {
   "cell_type": "code",
   "execution_count": 1,
   "id": "0230f7f0-c7eb-4855-a0de-bb6d54161e91",
   "metadata": {},
   "outputs": [],
   "source": [
    "import pandas as pd"
   ]
  },
  {
   "cell_type": "code",
   "execution_count": 3,
   "id": "f691cccb-1346-46bf-82d8-00f5553219ac",
   "metadata": {},
   "outputs": [],
   "source": [
    "df = pd.read_excel(\"sample_data.xlsx\")"
   ]
  },
  {
   "cell_type": "code",
   "execution_count": 16,
   "id": "08e7dbcd-333a-478a-b894-71f2f7fb966b",
   "metadata": {},
   "outputs": [],
   "source": [
    "df.columns = df.columns.str.lower()\n",
    "\n",
    "#Explanation:\n",
    "#1) use the columns method to isolate the columns index as a Series object\n",
    "#2) use the str method (every Series object has an str method), to access the string values of the series\n",
    "#3) use the lower method to convert the Series into all lower case\n",
    "#4) assign the new lower case series to the columns of the dataframe"
   ]
  },
  {
   "cell_type": "code",
   "execution_count": 22,
   "id": "03b3affe-4e64-4f60-b9d0-c1b280754e05",
   "metadata": {},
   "outputs": [],
   "source": [
    "df[\"record_id\"] = df[\"aliennumber\"]\n",
    "\n",
    "#Explanation:\n",
    "# new column named \"record_id\" is created that is a copy of \"aliennumber\""
   ]
  },
  {
   "cell_type": "code",
   "execution_count": 29,
   "id": "49f402fc-4933-4ccd-908d-e4f825e94ad0",
   "metadata": {},
   "outputs": [],
   "source": [
    "df = df.set_index(keys = df[\"record_id\"])\n",
    "\n",
    "#Explanation:\n",
    "# the column record_id becomes index "
   ]
  },
  {
   "cell_type": "code",
   "execution_count": 33,
   "id": "f75eb45e-5704-41ba-8f77-f4c31a4d75ec",
   "metadata": {},
   "outputs": [],
   "source": [
    "tbclass = {\n",
    "    \"A\":\"A\",\n",
    "    \"B1 (TI 07)\":\"B1\",\n",
    "    \"B2 (TI 07)\":\"B2\",\n",
    "    \"B3 (TI 07)\":\"B3\"    \n",
    "}\n",
    "\n",
    "df[\"tbclass\"] = df[\"tbclass\"].map(tbclass)\n",
    "\n",
    "\n",
    "#Explanation:\n",
    "#1) create a dictionary to describe value replacement\n",
    "#2) use map function on the desired column to replace values via dictionary "
   ]
  },
  {
   "cell_type": "code",
   "execution_count": null,
   "id": "7eb5f041-de3b-4d6a-a0d6-5b01ae2a900e",
   "metadata": {},
   "outputs": [],
   "source": []
  },
  {
   "cell_type": "code",
   "execution_count": null,
   "id": "637c3fff-d916-478c-8779-8963c830550e",
   "metadata": {},
   "outputs": [],
   "source": []
  },
  {
   "cell_type": "code",
   "execution_count": null,
   "id": "f053dbeb-f849-4c7e-897d-000ba6037bb2",
   "metadata": {},
   "outputs": [],
   "source": []
  },
  {
   "cell_type": "code",
   "execution_count": null,
   "id": "209335f9-9f3c-48f4-991a-069f8bf6953e",
   "metadata": {},
   "outputs": [],
   "source": []
  },
  {
   "cell_type": "code",
   "execution_count": null,
   "id": "1fc6239c-5db2-40ee-9bd3-ca6640adec97",
   "metadata": {},
   "outputs": [],
   "source": []
  },
  {
   "cell_type": "code",
   "execution_count": null,
   "id": "161395c3-a9fd-4f8b-a657-62a3de65f063",
   "metadata": {},
   "outputs": [],
   "source": []
  },
  {
   "cell_type": "code",
   "execution_count": null,
   "id": "30e38062-ff0d-4ac6-9379-685e0be78ee7",
   "metadata": {},
   "outputs": [],
   "source": []
  },
  {
   "cell_type": "code",
   "execution_count": null,
   "id": "ccdd1604-de6e-472e-a29a-4c537415a571",
   "metadata": {},
   "outputs": [],
   "source": []
  },
  {
   "cell_type": "code",
   "execution_count": null,
   "id": "8eeeba40-7867-4ec9-9468-bbc9fc53514a",
   "metadata": {},
   "outputs": [],
   "source": []
  },
  {
   "cell_type": "code",
   "execution_count": null,
   "id": "483560f2-15a4-41d1-ad68-d1054bce5285",
   "metadata": {},
   "outputs": [],
   "source": []
  }
 ],
 "metadata": {
  "kernelspec": {
   "display_name": "Python [conda env:transform21] *",
   "language": "python",
   "name": "conda-env-transform21-py"
  },
  "language_info": {
   "codemirror_mode": {
    "name": "ipython",
    "version": 3
   },
   "file_extension": ".py",
   "mimetype": "text/x-python",
   "name": "python",
   "nbconvert_exporter": "python",
   "pygments_lexer": "ipython3",
   "version": "3.8.10"
  }
 },
 "nbformat": 4,
 "nbformat_minor": 5
}
